{
 "cells": [
  {
   "cell_type": "markdown",
   "id": "d2dd9d53",
   "metadata": {},
   "source": [
    "# Configure GUI Framework\n",
    "This notebook sets up the customtkinter framework and required imports for the Android SDK Installer GUI application."
   ]
  },
  {
   "cell_type": "code",
   "execution_count": null,
   "id": "9ee047a6",
   "metadata": {},
   "outputs": [],
   "source": [
    "# Import required libraries\n",
    "import customtkinter as ctk\n",
    "import tkinter as tk\n",
    "from tkinter import messagebox\n",
    "import sys\n",
    "import os\n",
    "import requests\n",
    "import asyncio\n",
    "import logging"
   ]
  },
  {
   "cell_type": "markdown",
   "id": "9be242dd",
   "metadata": {},
   "source": [
    "## CustomTkinter Setup\n",
    "Configure the appearance mode and default color theme for the modern UI"
   ]
  },
  {
   "cell_type": "code",
   "execution_count": null,
   "id": "9cd65808",
   "metadata": {},
   "outputs": [],
   "source": [
    "# Set appearance mode and default theme\n",
    "ctk.set_appearance_mode(\"dark\")  # Modes: \"dark\", \"light\"\n",
    "ctk.set_default_color_theme(\"blue\")  # Themes: \"blue\", \"green\", \"dark-blue\"\n",
    "\n",
    "# Configure window scaling\n",
    "ctk.deactivate_automatic_dpi_awareness()"
   ]
  },
  {
   "cell_type": "markdown",
   "id": "65ef0fe6",
   "metadata": {},
   "source": [
    "## Basic Window Class\n",
    "Create the base window class that will be used for the installer"
   ]
  },
  {
   "cell_type": "code",
   "execution_count": null,
   "id": "19a120f7",
   "metadata": {},
   "outputs": [],
   "source": [
    "class SDKInstallerApp(ctk.CTk):\n",
    "    def __init__(self):\n",
    "        super().__init__()\n",
    "        \n",
    "        # Configure window\n",
    "        self.title(\"Android SDK Platform Tools Installer\")\n",
    "        self.geometry(\"800x600\")\n",
    "        self.minsize(700, 500)\n",
    "        \n",
    "        # Configure grid layout\n",
    "        self.grid_rowconfigure(0, weight=1)\n",
    "        self.grid_columnconfigure(0, weight=1)\n",
    "        \n",
    "        # Set up logging\n",
    "        logging.basicConfig(\n",
    "            level=logging.INFO,\n",
    "            format='%(asctime)s - %(levelname)s - %(message)s'\n",
    "        )"
   ]
  },
  {
   "cell_type": "markdown",
   "id": "07c8fe00",
   "metadata": {},
   "source": [
    "## Test Window Creation\n",
    "Create a test instance of the window to verify the setup"
   ]
  },
  {
   "cell_type": "code",
   "execution_count": null,
   "id": "f91b4c78",
   "metadata": {},
   "outputs": [],
   "source": [
    "if __name__ == \"__main__\":\n",
    "    app = SDKInstallerApp()\n",
    "    app.mainloop()"
   ]
  }
 ],
 "metadata": {
  "language_info": {
   "name": "python"
  }
 },
 "nbformat": 4,
 "nbformat_minor": 5
}
